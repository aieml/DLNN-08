{
  "nbformat": 4,
  "nbformat_minor": 0,
  "metadata": {
    "colab": {
      "name": "Autoencorder MNIST noise removal",
      "provenance": []
    },
    "kernelspec": {
      "name": "python3",
      "display_name": "Python 3"
    },
    "accelerator": "GPU"
  },
  "cells": [
    {
      "cell_type": "code",
      "metadata": {
        "id": "q7WZJy7QQshi",
        "colab_type": "code",
        "colab": {}
      },
      "source": [
        "from keras.datasets import mnist\n",
        "\n",
        "(train_data,_),(test_data,_)=mnist.load_data()\n",
        "\n",
        "train_data=train_data/255.0\n",
        "\n",
        "test_data=test_data/255.0"
      ],
      "execution_count": 0,
      "outputs": []
    },
    {
      "cell_type": "code",
      "metadata": {
        "id": "QkKxB4-eVGc9",
        "colab_type": "code",
        "colab": {}
      },
      "source": [
        "import numpy as np\n",
        "\n",
        "train_data_noisy=train_data+0.5*np.random.normal(loc=0,scale=1,size=train_data.shape)\n",
        "test_data_noisy=test_data+0.5*np.random.normal(loc=0,scale=1,size=test_data.shape)\n",
        "#adding random noise to the digits from gaussian distribution\n",
        "\n",
        "train_data_noisy=np.clip(train_data_noisy,0,1)\n",
        "test_data_noisy=np.clip(test_data_noisy,0,1)\n",
        "\n",
        "#clipping the pixels values greater than 1 and less than 0"
      ],
      "execution_count": 0,
      "outputs": []
    },
    {
      "cell_type": "code",
      "metadata": {
        "id": "Nl3KFXOkVrDr",
        "colab_type": "code",
        "colab": {
          "base_uri": "https://localhost:8080/",
          "height": 282
        },
        "outputId": "6fd67d7d-9a09-4f0e-e6b7-ebc1e7d2e03d"
      },
      "source": [
        "from matplotlib import pyplot as plt \n",
        "\n",
        "plt.imshow(test_data[1],cmap='gray')"
      ],
      "execution_count": 3,
      "outputs": [
        {
          "output_type": "execute_result",
          "data": {
            "text/plain": [
              "<matplotlib.image.AxesImage at 0x7fbf12c8d2b0>"
            ]
          },
          "metadata": {
            "tags": []
          },
          "execution_count": 3
        },
        {
          "output_type": "display_data",
          "data": {
            "image/png": "[encoded data removed]",
            "text/plain": [
              "<Figure size 432x288 with 1 Axes>"
            ]
          },
          "metadata": {
            "tags": [],
            "needs_background": "light"
          }
        }
      ]
    },
    {
      "cell_type": "code",
      "metadata": {
        "id": "yWamYo-LV7nj",
        "colab_type": "code",
        "colab": {
          "base_uri": "https://localhost:8080/",
          "height": 282
        },
        "outputId": "8b67770a-9c4f-49fc-ca16-9db36becb493"
      },
      "source": [
        "plt.imshow(test_data_noisy[10],cmap='gray')"
      ],
      "execution_count": 20,
      "outputs": [
        {
          "output_type": "execute_result",
          "data": {
            "text/plain": [
              "<matplotlib.image.AxesImage at 0x7fbe6fe58cc0>"
            ]
          },
          "metadata": {
            "tags": []
          },
          "execution_count": 20
        },
        {
          "output_type": "display_data",
          "data": {
            "image/png": "[encoded data removed]",
            "text/plain": [
              "<Figure size 432x288 with 1 Axes>"
            ]
          },
          "metadata": {
            "tags": [],
            "needs_background": "light"
          }
        }
      ]
    },
    {
      "cell_type": "code",
      "metadata": {
        "id": "jpJ2YJmsWv5N",
        "colab_type": "code",
        "colab": {}
      },
      "source": [
        "train_data=train_data.reshape(train_data.shape[0],train_data.shape[1],train_data.shape[2],1)\n",
        "test_data=test_data.reshape(test_data.shape[0],test_data.shape[1],test_data.shape[2],1)\n",
        "\n",
        "train_data_noisy=train_data_noisy.reshape(train_data_noisy.shape[0],train_data_noisy.shape[1],train_data_noisy.shape[2],1)\n",
        "test_data_noisy=test_data_noisy.reshape(test_data_noisy.shape[0],test_data_noisy.shape[1],test_data_noisy.shape[2],1)"
      ],
      "execution_count": 0,
      "outputs": []
    },
    {
      "cell_type": "code",
      "metadata": {
        "id": "kKvqtiCZXPTP",
        "colab_type": "code",
        "colab": {}
      },
      "source": [
        "from keras.layers import Input,Dense,Conv2D,MaxPool2D,UpSampling2D\n",
        "from keras.models import Model\n",
        "\n",
        "input_layer=Input(shape=train_data.shape[1:])  #layer 1\n",
        "#train_data (60000,28,28,1)\n",
        "\n",
        "model=Conv2D(32,(3,3),activation='relu',padding='same')(input_layer)\n",
        "model=MaxPool2D((2,2),padding='same')(model)\n",
        "model=Conv2D(32,(3,3),activation='relu',padding='same')(model)\n",
        "encoder=MaxPool2D((2,2),padding='same')(model) #output=(7,7) x32 bottle neck\n",
        "\n",
        "model=Conv2D(32,(3,3),activation='relu',padding='same')(encoder)\n",
        "model=UpSampling2D((2,2))(model) #inverse of pooling\n",
        "model=Conv2D(32,(3,3),activation='relu',padding='same')(model)\n",
        "model=UpSampling2D((2,2))(model) #output=(28,28) x32\n",
        "\n",
        "decoder=Conv2D(1,(3,3),activation='relu',padding='same')(model) #output=(28,28) x1\n",
        "\n",
        "autoencoder=Model(input_layer,decoder)\n",
        "\n",
        "autoencoder.compile(optimizer='adam',loss='mse')"
      ],
      "execution_count": 0,
      "outputs": []
    },
    {
      "cell_type": "code",
      "metadata": {
        "id": "s7dAFzUse4L8",
        "colab_type": "code",
        "colab": {
          "base_uri": "https://localhost:8080/",
          "height": 1000
        },
        "outputId": "e1d85c01-890d-4b5d-aa0c-425fc713d2f8"
      },
      "source": [
        "history=autoencoder.fit(train_data_noisy,train_data,epochs=100,validation_split=0.1)"
      ],
      "execution_count": 7,
      "outputs": [
        {
          "output_type": "stream",
          "text": [
            "Train on 54000 samples, validate on 6000 samples\n",
            "Epoch 1/100\n",
            "54000/54000 [==============================] - 13s 239us/step - loss: 0.0176 - val_loss: 0.0138\n",
            "Epoch 2/100\n",
            "54000/54000 [==============================] - 7s 124us/step - loss: 0.0129 - val_loss: 0.0124\n",
            "Epoch 3/100\n",
            "54000/54000 [==============================] - 7s 124us/step - loss: 0.0121 - val_loss: 0.0119\n",
            "Epoch 4/100\n",
            "54000/54000 [==============================] - 7s 125us/step - loss: 0.0117 - val_loss: 0.0118\n",
            "Epoch 5/100\n",
            "54000/54000 [==============================] - 7s 124us/step - loss: 0.0114 - val_loss: 0.0114\n",
            "Epoch 6/100\n",
            "54000/54000 [==============================] - 7s 125us/step - loss: 0.0112 - val_loss: 0.0113\n",
            "Epoch 7/100\n",
            "54000/54000 [==============================] - 7s 126us/step - loss: 0.0111 - val_loss: 0.0112\n",
            "Epoch 8/100\n",
            "54000/54000 [==============================] - 7s 124us/step - loss: 0.0110 - val_loss: 0.0112\n",
            "Epoch 9/100\n",
            "54000/54000 [==============================] - 7s 124us/step - loss: 0.0109 - val_loss: 0.0111\n",
            "Epoch 10/100\n",
            "54000/54000 [==============================] - 7s 124us/step - loss: 0.0109 - val_loss: 0.0110\n",
            "Epoch 11/100\n",
            "54000/54000 [==============================] - 7s 124us/step - loss: 0.0108 - val_loss: 0.0111\n",
            "Epoch 12/100\n",
            "54000/54000 [==============================] - 7s 125us/step - loss: 0.0108 - val_loss: 0.0110\n",
            "Epoch 13/100\n",
            "54000/54000 [==============================] - 7s 126us/step - loss: 0.0107 - val_loss: 0.0109\n",
            "Epoch 14/100\n",
            "54000/54000 [==============================] - 7s 127us/step - loss: 0.0107 - val_loss: 0.0108\n",
            "Epoch 15/100\n",
            "54000/54000 [==============================] - 7s 125us/step - loss: 0.0107 - val_loss: 0.0109\n",
            "Epoch 16/100\n",
            "54000/54000 [==============================] - 7s 124us/step - loss: 0.0106 - val_loss: 0.0110\n",
            "Epoch 17/100\n",
            "54000/54000 [==============================] - 7s 124us/step - loss: 0.0106 - val_loss: 0.0107\n",
            "Epoch 18/100\n",
            "54000/54000 [==============================] - 7s 125us/step - loss: 0.0106 - val_loss: 0.0107\n",
            "Epoch 19/100\n",
            "54000/54000 [==============================] - 7s 124us/step - loss: 0.0106 - val_loss: 0.0109\n",
            "Epoch 20/100\n",
            "54000/54000 [==============================] - 7s 123us/step - loss: 0.0106 - val_loss: 0.0107\n",
            "Epoch 21/100\n",
            "54000/54000 [==============================] - 7s 124us/step - loss: 0.0105 - val_loss: 0.0107\n",
            "Epoch 22/100\n",
            "54000/54000 [==============================] - 7s 123us/step - loss: 0.0105 - val_loss: 0.0108\n",
            "Epoch 23/100\n",
            "54000/54000 [==============================] - 7s 127us/step - loss: 0.0105 - val_loss: 0.0107\n",
            "Epoch 24/100\n",
            "54000/54000 [==============================] - 7s 126us/step - loss: 0.0105 - val_loss: 0.0107\n",
            "Epoch 25/100\n",
            "54000/54000 [==============================] - 7s 123us/step - loss: 0.0105 - val_loss: 0.0106\n",
            "Epoch 26/100\n",
            "54000/54000 [==============================] - 7s 124us/step - loss: 0.0105 - val_loss: 0.0106\n",
            "Epoch 27/100\n",
            "54000/54000 [==============================] - 7s 125us/step - loss: 0.0105 - val_loss: 0.0106\n",
            "Epoch 28/100\n",
            "54000/54000 [==============================] - 7s 123us/step - loss: 0.0105 - val_loss: 0.0106\n",
            "Epoch 29/100\n",
            "54000/54000 [==============================] - 7s 125us/step - loss: 0.0104 - val_loss: 0.0107\n",
            "Epoch 30/100\n",
            "54000/54000 [==============================] - 7s 123us/step - loss: 0.0104 - val_loss: 0.0106\n",
            "Epoch 31/100\n",
            "54000/54000 [==============================] - 7s 124us/step - loss: 0.0104 - val_loss: 0.0108\n",
            "Epoch 32/100\n",
            "54000/54000 [==============================] - 7s 124us/step - loss: 0.0104 - val_loss: 0.0106\n",
            "Epoch 33/100\n",
            "54000/54000 [==============================] - 7s 125us/step - loss: 0.0104 - val_loss: 0.0109\n",
            "Epoch 34/100\n",
            "54000/54000 [==============================] - 7s 126us/step - loss: 0.0104 - val_loss: 0.0106\n",
            "Epoch 35/100\n",
            "54000/54000 [==============================] - 7s 128us/step - loss: 0.0104 - val_loss: 0.0106\n",
            "Epoch 36/100\n",
            "54000/54000 [==============================] - 7s 128us/step - loss: 0.0104 - val_loss: 0.0106\n",
            "Epoch 37/100\n",
            "54000/54000 [==============================] - 7s 124us/step - loss: 0.0104 - val_loss: 0.0106\n",
            "Epoch 38/100\n",
            "54000/54000 [==============================] - 7s 124us/step - loss: 0.0104 - val_loss: 0.0107\n",
            "Epoch 39/100\n",
            "54000/54000 [==============================] - 7s 123us/step - loss: 0.0104 - val_loss: 0.0105\n",
            "Epoch 40/100\n",
            "54000/54000 [==============================] - 7s 123us/step - loss: 0.0104 - val_loss: 0.0105\n",
            "Epoch 41/100\n",
            "54000/54000 [==============================] - 7s 123us/step - loss: 0.0104 - val_loss: 0.0105\n",
            "Epoch 42/100\n",
            "54000/54000 [==============================] - 7s 123us/step - loss: 0.0103 - val_loss: 0.0106\n",
            "Epoch 43/100\n",
            "54000/54000 [==============================] - 7s 123us/step - loss: 0.0103 - val_loss: 0.0106\n",
            "Epoch 44/100\n",
            "54000/54000 [==============================] - 7s 122us/step - loss: 0.0103 - val_loss: 0.0106\n",
            "Epoch 45/100\n",
            "54000/54000 [==============================] - 7s 123us/step - loss: 0.0103 - val_loss: 0.0105\n",
            "Epoch 46/100\n",
            "54000/54000 [==============================] - 7s 124us/step - loss: 0.0103 - val_loss: 0.0106\n",
            "Epoch 47/100\n",
            "54000/54000 [==============================] - 7s 125us/step - loss: 0.0103 - val_loss: 0.0106\n",
            "Epoch 48/100\n",
            "54000/54000 [==============================] - 7s 124us/step - loss: 0.0103 - val_loss: 0.0107\n",
            "Epoch 49/100\n",
            "54000/54000 [==============================] - 7s 125us/step - loss: 0.0103 - val_loss: 0.0106\n",
            "Epoch 50/100\n",
            "54000/54000 [==============================] - 7s 125us/step - loss: 0.0103 - val_loss: 0.0105\n",
            "Epoch 51/100\n",
            "54000/54000 [==============================] - 7s 124us/step - loss: 0.0103 - val_loss: 0.0105\n",
            "Epoch 52/100\n",
            "54000/54000 [==============================] - 7s 127us/step - loss: 0.0103 - val_loss: 0.0108\n",
            "Epoch 53/100\n",
            "54000/54000 [==============================] - 7s 122us/step - loss: 0.0103 - val_loss: 0.0106\n",
            "Epoch 54/100\n",
            "54000/54000 [==============================] - 7s 122us/step - loss: 0.0103 - val_loss: 0.0108\n",
            "Epoch 55/100\n",
            "54000/54000 [==============================] - 7s 123us/step - loss: 0.0103 - val_loss: 0.0105\n",
            "Epoch 56/100\n",
            "54000/54000 [==============================] - 7s 123us/step - loss: 0.0103 - val_loss: 0.0105\n",
            "Epoch 57/100\n",
            "54000/54000 [==============================] - 7s 123us/step - loss: 0.0103 - val_loss: 0.0106\n",
            "Epoch 58/100\n",
            "54000/54000 [==============================] - 7s 123us/step - loss: 0.0103 - val_loss: 0.0105\n",
            "Epoch 59/100\n",
            "54000/54000 [==============================] - 7s 125us/step - loss: 0.0103 - val_loss: 0.0106\n",
            "Epoch 60/100\n",
            "54000/54000 [==============================] - 7s 124us/step - loss: 0.0103 - val_loss: 0.0105\n",
            "Epoch 61/100\n",
            "54000/54000 [==============================] - 7s 123us/step - loss: 0.0103 - val_loss: 0.0105\n",
            "Epoch 62/100\n",
            "54000/54000 [==============================] - 7s 123us/step - loss: 0.0103 - val_loss: 0.0105\n",
            "Epoch 63/100\n",
            "54000/54000 [==============================] - 7s 122us/step - loss: 0.0103 - val_loss: 0.0105\n",
            "Epoch 64/100\n",
            "54000/54000 [==============================] - 7s 123us/step - loss: 0.0103 - val_loss: 0.0105\n",
            "Epoch 65/100\n",
            "54000/54000 [==============================] - 7s 123us/step - loss: 0.0103 - val_loss: 0.0106\n",
            "Epoch 66/100\n",
            "54000/54000 [==============================] - 7s 123us/step - loss: 0.0103 - val_loss: 0.0105\n",
            "Epoch 67/100\n",
            "54000/54000 [==============================] - 7s 123us/step - loss: 0.0103 - val_loss: 0.0106\n",
            "Epoch 68/100\n",
            "54000/54000 [==============================] - 7s 122us/step - loss: 0.0103 - val_loss: 0.0105\n",
            "Epoch 69/100\n",
            "54000/54000 [==============================] - 7s 123us/step - loss: 0.0103 - val_loss: 0.0105\n",
            "Epoch 70/100\n",
            "54000/54000 [==============================] - 7s 123us/step - loss: 0.0103 - val_loss: 0.0107\n",
            "Epoch 71/100\n",
            "54000/54000 [==============================] - 7s 123us/step - loss: 0.0103 - val_loss: 0.0105\n",
            "Epoch 72/100\n",
            "54000/54000 [==============================] - 7s 123us/step - loss: 0.0103 - val_loss: 0.0105\n",
            "Epoch 73/100\n",
            "54000/54000 [==============================] - 7s 123us/step - loss: 0.0103 - val_loss: 0.0106\n",
            "Epoch 74/100\n",
            "54000/54000 [==============================] - 7s 122us/step - loss: 0.0102 - val_loss: 0.0105\n",
            "Epoch 75/100\n",
            "54000/54000 [==============================] - 7s 122us/step - loss: 0.0102 - val_loss: 0.0105\n",
            "Epoch 76/100\n",
            "54000/54000 [==============================] - 7s 122us/step - loss: 0.0102 - val_loss: 0.0105\n",
            "Epoch 77/100\n",
            "54000/54000 [==============================] - 7s 122us/step - loss: 0.0102 - val_loss: 0.0105\n",
            "Epoch 78/100\n",
            "54000/54000 [==============================] - 7s 122us/step - loss: 0.0102 - val_loss: 0.0105\n",
            "Epoch 79/100\n",
            "54000/54000 [==============================] - 7s 122us/step - loss: 0.0102 - val_loss: 0.0105\n",
            "Epoch 80/100\n",
            "54000/54000 [==============================] - 7s 121us/step - loss: 0.0102 - val_loss: 0.0105\n",
            "Epoch 81/100\n",
            "54000/54000 [==============================] - 7s 122us/step - loss: 0.0102 - val_loss: 0.0105\n",
            "Epoch 82/100\n",
            "54000/54000 [==============================] - 7s 126us/step - loss: 0.0102 - val_loss: 0.0106\n",
            "Epoch 83/100\n",
            "54000/54000 [==============================] - 7s 125us/step - loss: 0.0102 - val_loss: 0.0106\n",
            "Epoch 84/100\n",
            "54000/54000 [==============================] - 7s 123us/step - loss: 0.0102 - val_loss: 0.0105\n",
            "Epoch 85/100\n",
            "54000/54000 [==============================] - 7s 122us/step - loss: 0.0102 - val_loss: 0.0105\n",
            "Epoch 86/100\n",
            "54000/54000 [==============================] - 7s 121us/step - loss: 0.0102 - val_loss: 0.0110\n",
            "Epoch 87/100\n",
            "54000/54000 [==============================] - 7s 122us/step - loss: 0.0102 - val_loss: 0.0105\n",
            "Epoch 88/100\n",
            "54000/54000 [==============================] - 7s 122us/step - loss: 0.0102 - val_loss: 0.0105\n",
            "Epoch 89/100\n",
            "54000/54000 [==============================] - 7s 121us/step - loss: 0.0102 - val_loss: 0.0105\n",
            "Epoch 90/100\n",
            "54000/54000 [==============================] - 7s 122us/step - loss: 0.0102 - val_loss: 0.0105\n",
            "Epoch 91/100\n",
            "54000/54000 [==============================] - 7s 122us/step - loss: 0.0102 - val_loss: 0.0106\n",
            "Epoch 92/100\n",
            "54000/54000 [==============================] - 7s 122us/step - loss: 0.0102 - val_loss: 0.0106\n",
            "Epoch 93/100\n",
            "54000/54000 [==============================] - 7s 122us/step - loss: 0.0102 - val_loss: 0.0105\n",
            "Epoch 94/100\n",
            "54000/54000 [==============================] - 7s 121us/step - loss: 0.0102 - val_loss: 0.0105\n",
            "Epoch 95/100\n",
            "54000/54000 [==============================] - 7s 126us/step - loss: 0.0102 - val_loss: 0.0105\n",
            "Epoch 96/100\n",
            "54000/54000 [==============================] - 7s 124us/step - loss: 0.0102 - val_loss: 0.0105\n",
            "Epoch 97/100\n",
            "54000/54000 [==============================] - 7s 121us/step - loss: 0.0102 - val_loss: 0.0105\n",
            "Epoch 98/100\n",
            "54000/54000 [==============================] - 7s 124us/step - loss: 0.0102 - val_loss: 0.0105\n",
            "Epoch 99/100\n",
            "54000/54000 [==============================] - 7s 121us/step - loss: 0.0102 - val_loss: 0.0106\n",
            "Epoch 100/100\n",
            "54000/54000 [==============================] - 7s 121us/step - loss: 0.0102 - val_loss: 0.0107\n"
          ],
          "name": "stdout"
        }
      ]
    },
    {
      "cell_type": "code",
      "metadata": {
        "id": "SokZLJMchtkj",
        "colab_type": "code",
        "colab": {
          "base_uri": "https://localhost:8080/",
          "height": 265
        },
        "outputId": "ab922962-dae3-4c39-ee6d-ef0f036a80d3"
      },
      "source": [
        "from matplotlib import pyplot as plt\n",
        "\n",
        "plt.plot(history.history['loss'],'r',label='loss')\n",
        "plt.plot(history.history['val_loss'],'b',label='val loss')\n",
        "plt.legend()\n",
        "plt.show()"
      ],
      "execution_count": 8,
      "outputs": [
        {
          "output_type": "display_data",
          "data": {
            "image/png": "[encoded data removed]",
            "text/plain": [
              "<Figure size 432x288 with 1 Axes>"
            ]
          },
          "metadata": {
            "tags": [],
            "needs_background": "light"
          }
        }
      ]
    },
    {
      "cell_type": "code",
      "metadata": {
        "id": "BUFsJfTBhKQv",
        "colab_type": "code",
        "colab": {}
      },
      "source": [
        "autoencoder.save_weights('autoencorder_MNIST.h5')"
      ],
      "execution_count": 0,
      "outputs": []
    },
    {
      "cell_type": "code",
      "metadata": {
        "id": "ahfcqq7dhrH7",
        "colab_type": "code",
        "colab": {}
      },
      "source": [
        "result=autoencoder.predict(test_data_noisy)\n",
        "\n",
        "for i,img in enumerate(result):\n",
        "\n",
        "  plt.imshow(img.reshape(28,28),cmap='gray')\n",
        "  plt.savefig('results1/'+str(i)+'-output.png')\n",
        "  plt.close()\n",
        "\n",
        "  plt.imshow(test_data_noisy[i].reshape(28,28),cmap='gray')\n",
        "  plt.savefig('results1/'+str(i)+'-input.png')\n",
        "  plt.close()"
      ],
      "execution_count": 0,
      "outputs": []
    },
    {
      "cell_type": "code",
      "metadata": {
        "id": "PKq_iZ0Ajg4-",
        "colab_type": "code",
        "colab": {}
      },
      "source": [
        ""
      ],
      "execution_count": 0,
      "outputs": []
    }
  ]
}